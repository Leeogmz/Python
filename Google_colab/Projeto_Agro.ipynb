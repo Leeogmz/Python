{
  "cells": [
    {
      "cell_type": "markdown",
      "metadata": {
        "colab_type": "text",
        "id": "view-in-github"
      },
      "source": [
        "<a href=\"https://colab.research.google.com/github/Leeogmz/Python/blob/master/Google_colab/Projeto_Agro.ipynb\" target=\"_parent\"><img src=\"https://colab.research.google.com/assets/colab-badge.svg\" alt=\"Open In Colab\"/></a>"
      ]
    },
    {
      "cell_type": "code",
      "execution_count": 2,
      "metadata": {
        "id": "-J03nE79vrDm"
      },
      "outputs": [],
      "source": [
        "import numpy as np\n",
        "import pandas as pd\n"
      ]
    },
    {
      "cell_type": "markdown",
      "metadata": {
        "id": "RyJr9A0Gwbs2"
      },
      "source": [
        "Carregando o conjunto de dados"
      ]
    },
    {
      "cell_type": "code",
      "execution_count": 4,
      "metadata": {
        "id": "GkKXKRAdv76C"
      },
      "outputs": [],
      "source": [
        "df = pd.read_csv('/content/agricultural_raw_material.csv')"
      ]
    },
    {
      "cell_type": "markdown",
      "metadata": {
        "id": "IesiW9Djwq3D"
      },
      "source": [
        "Explorando o conjunto de dados"
      ]
    },
    {
      "cell_type": "code",
      "execution_count": 10,
      "metadata": {
        "colab": {
          "base_uri": "https://localhost:8080/"
        },
        "id": "73mjT7tjwD6P",
        "outputId": "55e51bcb-053d-4d4b-9cd9-ff800d355f97"
      },
      "outputs": [
        {
          "name": "stdout",
          "output_type": "stream",
          "text": [
            "<class 'pandas.core.frame.DataFrame'>\n",
            "RangeIndex: 361 entries, 0 to 360\n",
            "Data columns (total 25 columns):\n",
            " #   Column                        Non-Null Count  Dtype  \n",
            "---  ------                        --------------  -----  \n",
            " 0   Month                         361 non-null    object \n",
            " 1   Coarse wool Price             327 non-null    object \n",
            " 2   Coarse wool price % Change    327 non-null    object \n",
            " 3   Copra Price                   339 non-null    object \n",
            " 4   Copra price % Change          339 non-null    object \n",
            " 5   Cotton Price                  361 non-null    float64\n",
            " 6   Cotton price % Change         361 non-null    object \n",
            " 7   Fine wool Price               327 non-null    object \n",
            " 8   Fine wool price % Change      327 non-null    object \n",
            " 9   Hard log Price                361 non-null    float64\n",
            " 10  Hard log price % Change       361 non-null    object \n",
            " 11  Hard sawnwood Price           327 non-null    float64\n",
            " 12  Hard sawnwood price % Change  327 non-null    object \n",
            " 13  Hide Price                    327 non-null    float64\n",
            " 14  Hide price % change           327 non-null    object \n",
            " 15  Plywood Price                 361 non-null    float64\n",
            " 16  Plywood price % Change        361 non-null    object \n",
            " 17  Rubber Price                  361 non-null    float64\n",
            " 18  Rubber price % Change         361 non-null    object \n",
            " 19  Softlog Price                 327 non-null    float64\n",
            " 20  Softlog price % Change        327 non-null    object \n",
            " 21  Soft sawnwood Price           327 non-null    float64\n",
            " 22  Soft sawnwood price % Change  327 non-null    object \n",
            " 23  Wood pulp Price               360 non-null    float64\n",
            " 24  Wood pulp price % Change      360 non-null    object \n",
            "dtypes: float64(9), object(16)\n",
            "memory usage: 70.6+ KB\n"
          ]
        },
        {
          "data": {
            "text/plain": [
              "Month                            0\n",
              "Coarse wool Price               34\n",
              "Coarse wool price % Change      34\n",
              "Copra Price                     22\n",
              "Copra price % Change            22\n",
              "Cotton Price                     0\n",
              "Cotton price % Change            0\n",
              "Fine wool Price                 34\n",
              "Fine wool price % Change        34\n",
              "Hard log Price                   0\n",
              "Hard log price % Change          0\n",
              "Hard sawnwood Price             34\n",
              "Hard sawnwood price % Change    34\n",
              "Hide Price                      34\n",
              "Hide price % change             34\n",
              "Plywood Price                    0\n",
              "Plywood price % Change           0\n",
              "Rubber Price                     0\n",
              "Rubber price % Change            0\n",
              "Softlog Price                   34\n",
              "Softlog price % Change          34\n",
              "Soft sawnwood Price             34\n",
              "Soft sawnwood price % Change    34\n",
              "Wood pulp Price                  1\n",
              "Wood pulp price % Change         1\n",
              "dtype: int64"
            ]
          },
          "execution_count": 10,
          "metadata": {},
          "output_type": "execute_result"
        }
      ],
      "source": [
        "df.info()\n",
        "df.isnull().sum()"
      ]
    },
    {
      "cell_type": "code",
      "execution_count": null,
      "metadata": {
        "id": "RthHhBg8wvpK"
      },
      "outputs": [],
      "source": [
        "df = df.replace('%', '', regex=True)\n",
        "df = df.replace(',', '', regex=True)\n",
        "df = df.replace('-', '', regex=True)\n",
        "df = df.replace('', np.nan)\n",
        "df = df.replace('MAY90', np.nan)\n",
        "\n",
        "df = df.dropna()\n",
        "\n",
        "df.isnull().sum()"
      ]
    }
  ],
  "metadata": {
    "colab": {
      "authorship_tag": "ABX9TyMLpP81dENJ+DBe5sMpdztq",
      "include_colab_link": true,
      "provenance": []
    },
    "kernelspec": {
      "display_name": "Python 3",
      "name": "python3"
    },
    "language_info": {
      "name": "python"
    }
  },
  "nbformat": 4,
  "nbformat_minor": 0
}
